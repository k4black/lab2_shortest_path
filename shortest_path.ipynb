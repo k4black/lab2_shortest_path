{
 "nbformat": 4,
 "nbformat_minor": 0,
 "metadata": {
  "colab": {
   "name": "shortest_path.ipynb",
   "provenance": [],
   "collapsed_sections": [],
   "toc_visible": true,
   "authorship_tag": "ABX9TyPE6GwDJjofgEYMQbvEKOHc"
  },
  "kernelspec": {
   "name": "python3",
   "language": "python",
   "display_name": "Python 3"
  },
  "pycharm": {
   "stem_cell": {
    "cell_type": "raw",
    "source": [],
    "metadata": {
     "collapsed": false
    }
   }
  }
 },
 "cells": [
  {
   "cell_type": "code",
   "metadata": {
    "id": "xS-QMZvGf4mM",
    "colab_type": "code",
    "colab": {},
    "pycharm": {
     "is_executing": false
    }
   },
   "source": [
    "import matplotlib.pyplot as plt\n",
    "import timeit\n",
    "import numpy as np\n",
    "import random\n",
    "\n",
    "%matplotlib inline"
   ],
   "execution_count": 2,
   "outputs": []
  },
  {
   "cell_type": "code",
   "metadata": {
    "id": "fv6BIve6f9s1",
    "colab_type": "code",
    "colab": {},
    "pycharm": {
     "is_executing": false
    }
   },
   "source": [
    "!\n",
    "!echo $LD_LIBRARY_PATH"
   ],
   "execution_count": 3,
   "outputs": [
    {
     "name": "stdout",
     "text": [
      "\r\n"
     ],
     "output_type": "stream"
    }
   ]
  },
  {
   "cell_type": "code",
   "metadata": {
    "id": "ckkGofnkf9p5",
    "colab_type": "code",
    "colab": {},
    "pycharm": {
     "is_executing": false
    }
   },
   "source": [
    "def moving_average_(x, y):\n",
    "    bin_centers = []\n",
    "    bin_avg = []\n",
    "\n",
    "    items = []\n",
    "    last_x = x[0]\n",
    "    for i, item in enumerate(y):        \n",
    "        if last_x == x[i]:\n",
    "            items.append(item)\n",
    "        else:\n",
    "            bin_avg.append(np.mean(items))\n",
    "            bin_centers.append(last_x)\n",
    "            last_x = x[i]\n",
    "            items = [item]\n",
    "\n",
    "    bin_avg.append(np.mean(items))\n",
    "    bin_centers.append(x[-1])\n",
    "\n",
    "    # smooth res \n",
    "    smooth_k = 0.3\n",
    "    for i in range(1, len(bin_centers)-1):\n",
    "        bin_avg[i] = (bin_avg[i-1] + bin_avg[i] + bin_avg[i+1]) / 3 * smooth_k + bin_avg[i] * (1- smooth_k)\n",
    "\n",
    "    return bin_centers, bin_avg\n",
    "\n",
    "\n",
    "def draw_data_and_average(x, y, colour='b', label='', linestyle='solid'):\n",
    "    #plot the moving average\n",
    "    # bins, average = moving_average(x, y, step_size=find_min_diff(x)/10, bin_size=find_min_diff(x))\n",
    "    bins, average = moving_average_(x, y)\n",
    "    \n",
    "    # plt.scatter(x, y, colour, alpha=0.4, linewidths=0.5, label=(label+'_data'))\n",
    "    plt.scatter(x, y, color=colour, alpha=0.4, label=label, linestyle=linestyle, marker='o')\n",
    "    plt.plot(bins, average, colour, ms=1, linestyle=linestyle)\n",
    "    plt.legend()\n"
   ],
   "execution_count": 4,
   "outputs": []
  },
  {
   "cell_type": "code",
   "metadata": {
    "id": "WV6PcV2Qf9ni",
    "colab_type": "code",
    "colab": {},
    "pycharm": {
     "is_executing": false
    }
   },
   "source": [
    "x = [100, 100, 200, 200, 200, 200, 300, 300, 400, 400, 400, 400, 600, 600, 600, 700, 800, 800, 800, 800, 800]\n",
    "noise = np.random.normal(scale=0.3,size=len(x))\n",
    "y = np.sin(x) + noise\n",
    "\n",
    "\n",
    "print(moving_average_(x, y))\n",
    "draw_data_and_average(x, y, 'b', 'TEST')"
   ],
   "execution_count": 5,
   "outputs": [
    {
     "name": "stdout",
     "text": [
      "([100, 200, 300, 400, 600, 700, 800], [-0.48391303442686995, -0.9128347382036595, -1.1052301317086275, -0.8866122849939463, 0.07646715290789384, 0.6648011086435608, 0.8052956557919233])\n"
     ],
     "output_type": "stream"
    },
    {
     "data": {
      "text/plain": "<Figure size 432x288 with 1 Axes>",
      "image/png": "[encoded data removed]"
     },
     "metadata": {
      "needs_background": "light"
     },
     "output_type": "display_data"
    }
   ]
  },
  {
   "cell_type": "code",
   "metadata": {
    "id": "ahzsrUs9f9ky",
    "colab_type": "code",
    "colab": {},
    "pycharm": {
     "is_executing": false
    }
   },
   "source": [],
   "execution_count": 5,
   "outputs": []
  },
  {
   "cell_type": "code",
   "metadata": {
    "id": "8r94b3Hrf9iF",
    "colab_type": "code",
    "colab": {},
    "pycharm": {
     "is_executing": false
    }
   },
   "source": [
    "import time \n",
    "\n",
    "# def timeit(func, rep=100) -> list:\n",
    "    # res = []\n",
    "    # for i in range(rep):\n",
    "        # t = time.time()\n",
    "        # func()\n",
    "        # res.append(time.time() - t)\n",
    "    # \n",
    "    # return res\n",
    "\n",
    "def timeit(func) -> list:\n",
    "    t = time.time()\n",
    "    func()\n",
    "    return time.time() - t\n",
    "    "
   ],
   "execution_count": 6,
   "outputs": []
  },
  {
   "cell_type": "code",
   "metadata": {
    "id": "nhRj-E4Lf9fJ",
    "colab_type": "code",
    "colab": {},
    "pycharm": {
     "is_executing": false
    }
   },
   "source": [],
   "execution_count": 6,
   "outputs": []
  },
  {
   "cell_type": "code",
   "metadata": {
    "id": "WCEcBK-7gD7S",
    "colab_type": "code",
    "colab": {},
    "pycharm": {
     "is_executing": false
    }
   },
   "source": [],
   "execution_count": 6,
   "outputs": []
  },
  {
   "cell_type": "code",
   "metadata": {
    "id": "yjWR9c1EgD5h",
    "colab_type": "code",
    "colab": {},
    "pycharm": {
     "is_executing": false
    }
   },
   "source": [
    "## All-to-all shortest paths "
   ],
   "execution_count": 7,
   "outputs": []
  },
  {
   "cell_type": "code",
   "execution_count": 8,
   "outputs": [
    {
     "name": "stdout",
     "text": [
      "\r\n"
     ],
     "output_type": "stream"
    }
   ],
   "source": [
    "!export LD_LIBRARY_PATH=./:$LD_LIBRARY_PATH\n",
    "!echo $LD_LIBRARY_PATH"
   ],
   "metadata": {
    "collapsed": false,
    "pycharm": {
     "name": "#%%\n",
     "is_executing": false
    }
   }
  },
  {
   "cell_type": "code",
   "execution_count": 9,
   "outputs": [
    {
     "traceback": [
      "\u001b[0;31m---------------------------------------------------------------------------\u001b[0m",
      "\u001b[0;31mModuleNotFoundError\u001b[0m                       Traceback (most recent call last)",
      "\u001b[0;32m<ipython-input-9-6a084e0cc623>\u001b[0m in \u001b[0;36m<module>\u001b[0;34m\u001b[0m\n\u001b[0;32m----> 1\u001b[0;31m \u001b[0;32mimport\u001b[0m \u001b[0mgraph_python\u001b[0m\u001b[0;34m\u001b[0m\u001b[0;34m\u001b[0m\u001b[0m\n\u001b[0m\u001b[1;32m      2\u001b[0m \u001b[0;34m\u001b[0m\u001b[0m\n",
      "\u001b[0;31mModuleNotFoundError\u001b[0m: No module named 'graph_python'"
     ],
     "ename": "ModuleNotFoundError",
     "evalue": "No module named 'graph_python'",
     "output_type": "error"
    }
   ],
   "source": [
    "import graph_python"
   ],
   "metadata": {
    "collapsed": false,
    "pycharm": {
     "name": "#%% \n",
     "is_executing": false
    }
   }
  },
  {
   "cell_type": "code",
   "execution_count": null,
   "outputs": [],
   "source": [
    "\n",
    "import random\n",
    "import math\n",
    "from graph_python import PyGraphGenerator, Dijkstra, BellmanFord, FloydWarshall, Johnson, Seidel\n"
   ],
   "metadata": {
    "collapsed": false,
    "pycharm": {
     "name": "#%%\n"
    }
   }
  },
  {
   "cell_type": "code",
   "metadata": {
    "id": "hlHcqi4egD3H",
    "colab_type": "code",
    "colab": {}
   },
   "source": [
    "algos = {'FloydWarshall': FloydWarshall, 'Johnson': Johnson, 'Seidel': Seidel}\n",
    "\n",
    "time_thin = {title:[] for title in algos}\n",
    "time_dense = {title:[] for title in algos}\n",
    "\n",
    "sizes = []\n",
    "\n",
    "for n in range(10, 1111, 100):  # Graph sizes\n",
    "    print(n)\n",
    "    for _ in range(15):  # repetition \n",
    "        sizes.append(n)\n",
    "        graph_thin = PyGraph(n)\n",
    "        num = random.randint(n - 1, int(n*math.sqrt(n)))\n",
    "        PyGraphGenerator.build_by_number(graph_thin, num)\n",
    "        \n",
    "        for title in algos:\n",
    "            time_thin[title].append(timeit(lambda : algos[title](graph_thin)))\n",
    "\n",
    "        graph_dense = PyGraph(n)\n",
    "        num = random.randint(int(n*math.sqrt(n)), int(n*(n-1)/2))\n",
    "        PyGraphGenerator.build_by_number(graph_dense, num)\n",
    "\n",
    "        for title in algos:\n",
    "            time_dense[title].append(timeit(lambda : algos[title](graph_dense)))"
   ],
   "execution_count": 0,
   "outputs": []
  },
  {
   "cell_type": "code",
   "metadata": {
    "id": "YFGZbFz4gD08",
    "colab_type": "code",
    "colab": {}
   },
   "source": [
    "plt.figure(figsize=(30, 5))\n",
    "\n",
    "plt.subplot(2, 1, 1)\n",
    "for colour, title in zip(['c', 'm', 'r'], algos): \n",
    "    draw_data_and_average(sizes, time_thin[title], colour=colour, label=title, linestyle='dashed')\n",
    "plt.xlabel('Graph size')\n",
    "plt.ylabel('Time')\n",
    "plt.grid(True)\n",
    "plt.tight_layout()\n",
    "plt.title('All-to-all Thin')\n",
    "plt.labels()\n",
    "\n",
    "plt.subplot(2, 1, 2)\n",
    "for colour, title in zip(['c', 'm', 'r'], algos): \n",
    "    draw_data_and_average(sizes, time_dence[title], colour=colour, label=title, linestyle='dashed')\n",
    "plt.xlabel('Graph size')\n",
    "plt.ylabel('Time')\n",
    "plt.grid(True)\n",
    "plt.tight_layout()\n",
    "plt.title('All-to-all Dence')\n",
    "plt.labels()\n",
    "\n",
    "plt.show()"
   ],
   "execution_count": 0,
   "outputs": []
  },
  {
   "cell_type": "code",
   "metadata": {
    "id": "9APXASsxgDyB",
    "colab_type": "code",
    "colab": {}
   },
   "source": [
    "## One-to-one\n"
   ],
   "execution_count": 0,
   "outputs": []
  },
  {
   "cell_type": "code",
   "execution_count": null,
   "outputs": [],
   "source": [
    "import random \n",
    "\n",
    "\n",
    "# TODO: A*\n",
    "algos = {'Dijkstra': Dijkstra, 'BellmanFord': BellmanFord}\n",
    "\n",
    "time_thin = {title:[] for title in algos}\n",
    "time_dense = {title:[] for title in algos}\n",
    "\n",
    "sizes = []\n",
    "\n",
    "for n in range(10, 1111, 100):  # Graph sizes\n",
    "    print(n)\n",
    "    for _ in range(15):  # repetition \n",
    "        sizes.append(n)\n",
    "        src = random.randint(0, n-1)\n",
    "        \n",
    "        graph_thin = PyGraph(n)\n",
    "        num = random.randint(n - 1, int(n*math.sqrt(n)))\n",
    "        PyGraphGenerator.build_by_number(graph_thin, num)\n",
    "        \n",
    "        for title in algos:\n",
    "            time_thin[title].append(timeit(lambda : algos[title](graph_thin, src)))  # TODO: scr - target \n",
    "\n",
    "        graph_dense = PyGraph(n)\n",
    "        num = random.randint(int(n*math.sqrt(n)), int(n*(n-1)/2))\n",
    "        PyGraphGenerator.build_by_number(graph_dense, num)\n",
    "\n",
    "        for title in algos:\n",
    "            time_dense[title].append(timeit(lambda : algos[title](graph_dense, src)))\n"
   ],
   "metadata": {
    "collapsed": false,
    "pycharm": {
     "name": "#%%\n"
    }
   }
  },
  {
   "cell_type": "code",
   "execution_count": null,
   "outputs": [],
   "source": [
    "plt.figure(figsize=(30, 5))\n",
    "\n",
    "plt.subplot(2, 1, 1)\n",
    "for colour, title in zip(['c', 'm'], algos): \n",
    "    draw_data_and_average(sizes, time_thin[title], colour=colour, label=title, linestyle='dashed')\n",
    "plt.xlabel('Graph size')\n",
    "plt.ylabel('Time')\n",
    "plt.grid(True)\n",
    "plt.tight_layout()\n",
    "plt.title('One-to-one Thin')\n",
    "plt.labels()\n",
    "\n",
    "plt.subplot(2, 1, 2)\n",
    "for colour, title in zip(['c', 'm'], algos): \n",
    "    draw_data_and_average(sizes, time_dence[title], colour=colour, label=title, linestyle='dashed')\n",
    "plt.xlabel('Graph size')\n",
    "plt.ylabel('Time')\n",
    "plt.grid(True)\n",
    "plt.tight_layout()\n",
    "plt.title('One-to-one Dence')\n",
    "plt.labels()\n",
    "\n",
    "plt.show()"
   ],
   "metadata": {
    "collapsed": false,
    "pycharm": {
     "name": "#%%\n"
    }
   }
  },
  {
   "cell_type": "code",
   "execution_count": null,
   "outputs": [],
   "source": [],
   "metadata": {
    "collapsed": false,
    "pycharm": {
     "name": "#%%"
    }
   }
  }
 ]
}